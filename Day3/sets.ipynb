{
 "cells": [
  {
   "cell_type": "code",
   "execution_count": 2,
   "id": "d0ef2ada-4cdd-4b32-a999-83f20c1e3cce",
   "metadata": {},
   "outputs": [],
   "source": [
    "#unique elements and unordered (her elemandan bir tane olabilir ve sırasızdır)"
   ]
  },
  {
   "cell_type": "code",
   "execution_count": 4,
   "id": "798359c4-fdef-41da-8d7e-a5cc01876b7a",
   "metadata": {},
   "outputs": [],
   "source": [
    "myList = [1,2,2,3,3,3,4,4,4,4]"
   ]
  },
  {
   "cell_type": "code",
   "execution_count": 6,
   "id": "f0d84627-9299-4112-aa47-b91297ffa38c",
   "metadata": {},
   "outputs": [],
   "source": [
    "mySet = set(myList)"
   ]
  },
  {
   "cell_type": "code",
   "execution_count": 8,
   "id": "5374949a-f6f9-44eb-8a8e-2b7f2d6cf89a",
   "metadata": {},
   "outputs": [
    {
     "data": {
      "text/plain": [
       "{1, 2, 3, 4}"
      ]
     },
     "execution_count": 8,
     "metadata": {},
     "output_type": "execute_result"
    }
   ],
   "source": [
    "mySet"
   ]
  },
  {
   "cell_type": "code",
   "execution_count": 10,
   "id": "fabecefb-78b7-4f1e-8a06-233f45273074",
   "metadata": {},
   "outputs": [],
   "source": [
    "mySet2 = {1,2,3,1}"
   ]
  },
  {
   "cell_type": "code",
   "execution_count": 12,
   "id": "96f608bb-54ac-4ef3-a3cc-b6b30bf36278",
   "metadata": {},
   "outputs": [
    {
     "data": {
      "text/plain": [
       "{1, 2, 3}"
      ]
     },
     "execution_count": 12,
     "metadata": {},
     "output_type": "execute_result"
    }
   ],
   "source": [
    "mySet2"
   ]
  },
  {
   "cell_type": "code",
   "execution_count": 14,
   "id": "c851aa6a-bf7b-4252-aabd-0a3ea6d9c5ea",
   "metadata": {},
   "outputs": [],
   "source": [
    "emptySet = set()"
   ]
  },
  {
   "cell_type": "code",
   "execution_count": 16,
   "id": "bd82d3ab-be4a-4867-85fe-44023d20dc73",
   "metadata": {},
   "outputs": [
    {
     "data": {
      "text/plain": [
       "set"
      ]
     },
     "execution_count": 16,
     "metadata": {},
     "output_type": "execute_result"
    }
   ],
   "source": [
    "type(emptySet)"
   ]
  },
  {
   "cell_type": "code",
   "execution_count": 18,
   "id": "832595e0-5fb9-44e5-8ba4-d738740e672d",
   "metadata": {},
   "outputs": [],
   "source": [
    "emptySet.add(10)\n",
    "emptySet.add(10)\n",
    "emptySet.add(20)\n",
    "emptySet.add(30)"
   ]
  },
  {
   "cell_type": "code",
   "execution_count": 20,
   "id": "0592a59b-06b3-4cd4-beaf-cba80072697f",
   "metadata": {},
   "outputs": [
    {
     "data": {
      "text/plain": [
       "{10, 20, 30}"
      ]
     },
     "execution_count": 20,
     "metadata": {},
     "output_type": "execute_result"
    }
   ],
   "source": [
    "emptySet"
   ]
  },
  {
   "cell_type": "code",
   "execution_count": 22,
   "id": "8fbfaa98-66a1-4dfb-96ea-2aa4ffc04966",
   "metadata": {},
   "outputs": [],
   "source": [
    "emptyList = list()"
   ]
  },
  {
   "cell_type": "code",
   "execution_count": 24,
   "id": "998670b9-67f1-4133-9ba3-e7dd4a726103",
   "metadata": {},
   "outputs": [],
   "source": [
    "emptyDictionary = dict()"
   ]
  },
  {
   "cell_type": "code",
   "execution_count": 28,
   "id": "38e3c2be-05df-42ec-966d-a4dbd7e80c0c",
   "metadata": {},
   "outputs": [
    {
     "data": {
      "text/plain": [
       "dict"
      ]
     },
     "execution_count": 28,
     "metadata": {},
     "output_type": "execute_result"
    }
   ],
   "source": [
    "type(emptyDictionary)"
   ]
  },
  {
   "cell_type": "code",
   "execution_count": 30,
   "id": "95d79b36-fb37-414a-bf77-1fdbfd0ff51d",
   "metadata": {},
   "outputs": [
    {
     "data": {
      "text/plain": [
       "list"
      ]
     },
     "execution_count": 30,
     "metadata": {},
     "output_type": "execute_result"
    }
   ],
   "source": [
    "type(emptyList)"
   ]
  }
 ],
 "metadata": {
  "kernelspec": {
   "display_name": "Python [conda env:base] *",
   "language": "python",
   "name": "conda-base-py"
  },
  "language_info": {
   "codemirror_mode": {
    "name": "ipython",
    "version": 3
   },
   "file_extension": ".py",
   "mimetype": "text/x-python",
   "name": "python",
   "nbconvert_exporter": "python",
   "pygments_lexer": "ipython3",
   "version": "3.12.7"
  }
 },
 "nbformat": 4,
 "nbformat_minor": 5
}
