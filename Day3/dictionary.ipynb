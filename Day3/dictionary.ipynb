{
 "cells": [
  {
   "cell_type": "code",
   "execution_count": 2,
   "id": "d10a90fe-4d14-4d9d-8389-5c8232fe9550",
   "metadata": {},
   "outputs": [],
   "source": [
    "#Dictionary: Key-value pairing"
   ]
  },
  {
   "cell_type": "code",
   "execution_count": 4,
   "id": "5c12dc1b-00b4-46e3-b671-86b3ac108789",
   "metadata": {},
   "outputs": [],
   "source": [
    "fitness_dictionary = {\"banana\":200, \"apple\":150}"
   ]
  },
  {
   "cell_type": "code",
   "execution_count": 6,
   "id": "b700d3e9-eea0-4b2e-8e63-2e67c13804ec",
   "metadata": {},
   "outputs": [
    {
     "data": {
      "text/plain": [
       "dict"
      ]
     },
     "execution_count": 6,
     "metadata": {},
     "output_type": "execute_result"
    }
   ],
   "source": [
    "type(fitness_dictionary)"
   ]
  },
  {
   "cell_type": "code",
   "execution_count": 8,
   "id": "7cf4b5c1-2925-4d1b-92f7-0b63028fa36b",
   "metadata": {},
   "outputs": [
    {
     "data": {
      "text/plain": [
       "200"
      ]
     },
     "execution_count": 8,
     "metadata": {},
     "output_type": "execute_result"
    }
   ],
   "source": [
    "fitness_dictionary[\"banana\"]"
   ]
  },
  {
   "cell_type": "code",
   "execution_count": 10,
   "id": "61a05e96-6377-450e-956c-7fb481bdd799",
   "metadata": {},
   "outputs": [],
   "source": [
    "fitness_dictionary_values = list(fitness_dictionary.values())"
   ]
  },
  {
   "cell_type": "code",
   "execution_count": 12,
   "id": "c7b20850-4e7d-4c01-b55d-343ad6efff44",
   "metadata": {},
   "outputs": [
    {
     "data": {
      "text/plain": [
       "[200, 150]"
      ]
     },
     "execution_count": 12,
     "metadata": {},
     "output_type": "execute_result"
    }
   ],
   "source": [
    "fitness_dictionary_values"
   ]
  },
  {
   "cell_type": "code",
   "execution_count": 14,
   "id": "e882f172-7c39-4f92-ae79-d0d01ad3b1cd",
   "metadata": {},
   "outputs": [],
   "source": [
    "fitness_dictionary_keys = list(fitness_dictionary.keys())"
   ]
  },
  {
   "cell_type": "code",
   "execution_count": 16,
   "id": "5af07af2-274e-4195-abe2-eae4660b36a6",
   "metadata": {},
   "outputs": [
    {
     "data": {
      "text/plain": [
       "['banana', 'apple']"
      ]
     },
     "execution_count": 16,
     "metadata": {},
     "output_type": "execute_result"
    }
   ],
   "source": [
    "fitness_dictionary_keys"
   ]
  },
  {
   "cell_type": "code",
   "execution_count": 18,
   "id": "46dcfcfa-69fe-40c9-8a91-04ecda12ea49",
   "metadata": {},
   "outputs": [],
   "source": [
    "fitness_dictionary[\"melon\"] = 300"
   ]
  },
  {
   "cell_type": "code",
   "execution_count": 20,
   "id": "afcef667-613a-4c9a-b550-d7a8ed012a88",
   "metadata": {},
   "outputs": [
    {
     "data": {
      "text/plain": [
       "{'banana': 200, 'apple': 150, 'melon': 300}"
      ]
     },
     "execution_count": 20,
     "metadata": {},
     "output_type": "execute_result"
    }
   ],
   "source": [
    "fitness_dictionary"
   ]
  },
  {
   "cell_type": "code",
   "execution_count": 24,
   "id": "bed9b743-e5ef-4d27-8cc0-cb95df7be125",
   "metadata": {},
   "outputs": [
    {
     "data": {
      "text/plain": [
       "'Yanlıs key degeri girdiniz'"
      ]
     },
     "execution_count": 24,
     "metadata": {},
     "output_type": "execute_result"
    }
   ],
   "source": [
    "fitness_dictionary.get(\"grape\", \"Yanlıs key degeri girdiniz\")  #get methodu bize default deger imkanı saglıyor"
   ]
  },
  {
   "cell_type": "code",
   "execution_count": null,
   "id": "65c6ef86-bc44-4d95-9e48-87427ed1f24b",
   "metadata": {},
   "outputs": [],
   "source": []
  }
 ],
 "metadata": {
  "kernelspec": {
   "display_name": "Python [conda env:base] *",
   "language": "python",
   "name": "conda-base-py"
  },
  "language_info": {
   "codemirror_mode": {
    "name": "ipython",
    "version": 3
   },
   "file_extension": ".py",
   "mimetype": "text/x-python",
   "name": "python",
   "nbconvert_exporter": "python",
   "pygments_lexer": "ipython3",
   "version": "3.12.7"
  }
 },
 "nbformat": 4,
 "nbformat_minor": 5
}
