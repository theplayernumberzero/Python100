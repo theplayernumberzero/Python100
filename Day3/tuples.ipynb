{
 "cells": [
  {
   "cell_type": "code",
   "execution_count": 2,
   "id": "52201218-9780-4a1b-adda-0e79db72dce5",
   "metadata": {},
   "outputs": [],
   "source": [
    "#tuple: list ile neredeyse aynı, tek farkı immutable olması"
   ]
  },
  {
   "cell_type": "code",
   "execution_count": 4,
   "id": "05ea071d-5704-45ae-98e4-25ecc22e5ed8",
   "metadata": {},
   "outputs": [],
   "source": [
    "myTuples = (1,2.4,\"Bahadir\")"
   ]
  },
  {
   "cell_type": "code",
   "execution_count": 6,
   "id": "f21f5a99-ab8b-425d-b38c-8df98cfdff23",
   "metadata": {},
   "outputs": [
    {
     "data": {
      "text/plain": [
       "tuple"
      ]
     },
     "execution_count": 6,
     "metadata": {},
     "output_type": "execute_result"
    }
   ],
   "source": [
    "type(myTuples)"
   ]
  },
  {
   "cell_type": "code",
   "execution_count": null,
   "id": "edb712af-ec05-4e33-8b52-1b29a4fac60d",
   "metadata": {},
   "outputs": [],
   "source": []
  }
 ],
 "metadata": {
  "kernelspec": {
   "display_name": "Python [conda env:base] *",
   "language": "python",
   "name": "conda-base-py"
  },
  "language_info": {
   "codemirror_mode": {
    "name": "ipython",
    "version": 3
   },
   "file_extension": ".py",
   "mimetype": "text/x-python",
   "name": "python",
   "nbconvert_exporter": "python",
   "pygments_lexer": "ipython3",
   "version": "3.12.7"
  }
 },
 "nbformat": 4,
 "nbformat_minor": 5
}
