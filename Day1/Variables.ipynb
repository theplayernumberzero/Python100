{
 "cells": [
  {
   "cell_type": "code",
   "execution_count": 2,
   "id": "7940ee5a-dcd9-4f9e-bb50-4cc45765e8e8",
   "metadata": {},
   "outputs": [],
   "source": [
    "age = 23"
   ]
  },
  {
   "cell_type": "code",
   "execution_count": 4,
   "id": "fc4f7a1a-1398-4b19-bf28-d9db31881fa2",
   "metadata": {},
   "outputs": [
    {
     "data": {
      "text/plain": [
       "23"
      ]
     },
     "execution_count": 4,
     "metadata": {},
     "output_type": "execute_result"
    }
   ],
   "source": [
    "age"
   ]
  },
  {
   "cell_type": "code",
   "execution_count": 6,
   "id": "470785df-b7f5-437c-824e-6dc997e2beda",
   "metadata": {},
   "outputs": [
    {
     "data": {
      "text/plain": [
       "115"
      ]
     },
     "execution_count": 6,
     "metadata": {},
     "output_type": "execute_result"
    }
   ],
   "source": [
    "age * 5"
   ]
  },
  {
   "cell_type": "code",
   "execution_count": 8,
   "id": "47f948b6-97b3-4888-984c-2a966f07378c",
   "metadata": {},
   "outputs": [
    {
     "data": {
      "text/plain": [
       "int"
      ]
     },
     "execution_count": 8,
     "metadata": {},
     "output_type": "execute_result"
    }
   ],
   "source": [
    "type(age)"
   ]
  },
  {
   "cell_type": "code",
   "execution_count": 10,
   "id": "14766d60-46aa-487f-bdd3-dfda84ad00d4",
   "metadata": {},
   "outputs": [
    {
     "data": {
      "text/plain": [
       "float"
      ]
     },
     "execution_count": 10,
     "metadata": {},
     "output_type": "execute_result"
    }
   ],
   "source": [
    "type(40 / 10)"
   ]
  },
  {
   "cell_type": "code",
   "execution_count": 12,
   "id": "1853fa35-dbe0-445e-bb5c-df3b56544621",
   "metadata": {},
   "outputs": [],
   "source": [
    "#Pythonda bölme işleminin veri tipi her zaman floattır"
   ]
  },
  {
   "cell_type": "code",
   "execution_count": 14,
   "id": "444569fe-30a1-476c-83d3-856c8b67f1a9",
   "metadata": {},
   "outputs": [
    {
     "data": {
      "text/plain": [
       "float"
      ]
     },
     "execution_count": 14,
     "metadata": {},
     "output_type": "execute_result"
    }
   ],
   "source": [
    "type(4.2 - 2)"
   ]
  },
  {
   "cell_type": "code",
   "execution_count": 16,
   "id": "75c6326a-087f-415f-9d73-88d1e1bcaee3",
   "metadata": {},
   "outputs": [],
   "source": [
    "#4 işlemde iki sayıdan biri float ise sonuç her zaman floattır."
   ]
  },
  {
   "cell_type": "code",
   "execution_count": 18,
   "id": "ce4cfa14-2e0e-47bf-a283-dc99e1d58a61",
   "metadata": {},
   "outputs": [
    {
     "data": {
      "text/plain": [
       "32"
      ]
     },
     "execution_count": 18,
     "metadata": {},
     "output_type": "execute_result"
    }
   ],
   "source": [
    "2 ** 5"
   ]
  },
  {
   "cell_type": "code",
   "execution_count": 20,
   "id": "4578cf4d-9965-4682-b28c-3372b3b46116",
   "metadata": {},
   "outputs": [
    {
     "data": {
      "text/plain": [
       "1"
      ]
     },
     "execution_count": 20,
     "metadata": {},
     "output_type": "execute_result"
    }
   ],
   "source": [
    "10 % 3"
   ]
  },
  {
   "cell_type": "code",
   "execution_count": 22,
   "id": "b8f040af-006a-4f4e-87d9-bae5ccfbc7cb",
   "metadata": {},
   "outputs": [
    {
     "name": "stdout",
     "output_type": "stream",
     "text": [
      "Hello python\n"
     ]
    }
   ],
   "source": [
    "print(\"Hello python\")"
   ]
  },
  {
   "cell_type": "code",
   "execution_count": 24,
   "id": "b95b10ed-2c9c-45a2-b2b5-6c05ae99db69",
   "metadata": {},
   "outputs": [],
   "source": [
    "name = \"Bahadir\""
   ]
  },
  {
   "cell_type": "code",
   "execution_count": 26,
   "id": "d3f18ad1-f995-4da1-b030-54af51ffee81",
   "metadata": {},
   "outputs": [
    {
     "data": {
      "text/plain": [
       "str"
      ]
     },
     "execution_count": 26,
     "metadata": {},
     "output_type": "execute_result"
    }
   ],
   "source": [
    "type(name)"
   ]
  },
  {
   "cell_type": "code",
   "execution_count": 28,
   "id": "7c107f9b-c1ed-4f5f-b231-5c8e7a6a1531",
   "metadata": {},
   "outputs": [],
   "source": [
    "name = \"Bahadir Kilic\""
   ]
  },
  {
   "cell_type": "code",
   "execution_count": 30,
   "id": "7ce42ff8-348a-48de-b5d7-d204ee1314e3",
   "metadata": {},
   "outputs": [
    {
     "name": "stdout",
     "output_type": "stream",
     "text": [
      "Help on built-in function count:\n",
      "\n",
      "count(...) method of builtins.str instance\n",
      "    S.count(sub[, start[, end]]) -> int\n",
      "\n",
      "    Return the number of non-overlapping occurrences of substring sub in\n",
      "    string S[start:end].  Optional arguments start and end are\n",
      "    interpreted as in slice notation.\n",
      "\n"
     ]
    }
   ],
   "source": [
    "help(name.count)"
   ]
  },
  {
   "cell_type": "code",
   "execution_count": 32,
   "id": "23860901-16ae-4a2a-aa78-d94a2106fa25",
   "metadata": {},
   "outputs": [
    {
     "data": {
      "text/plain": [
       "3"
      ]
     },
     "execution_count": 32,
     "metadata": {},
     "output_type": "execute_result"
    }
   ],
   "source": [
    "name.count(\"i\")"
   ]
  },
  {
   "cell_type": "code",
   "execution_count": 34,
   "id": "7db33b22-1db1-42f1-a298-554b4161f00a",
   "metadata": {},
   "outputs": [
    {
     "data": {
      "text/plain": [
       "'BAHADIR KILIC'"
      ]
     },
     "execution_count": 34,
     "metadata": {},
     "output_type": "execute_result"
    }
   ],
   "source": [
    "name.upper()"
   ]
  },
  {
   "cell_type": "code",
   "execution_count": 36,
   "id": "bfc371db-7c4f-4244-9ab6-ab92d646a476",
   "metadata": {},
   "outputs": [
    {
     "data": {
      "text/plain": [
       "13"
      ]
     },
     "execution_count": 36,
     "metadata": {},
     "output_type": "execute_result"
    }
   ],
   "source": [
    "len(name)"
   ]
  },
  {
   "cell_type": "code",
   "execution_count": 38,
   "id": "b1ed84fc-2bf1-4137-a040-8f3cab142b03",
   "metadata": {},
   "outputs": [
    {
     "name": "stdout",
     "output_type": "stream",
     "text": [
      "Bahadir\n",
      "Kilic\n"
     ]
    }
   ],
   "source": [
    "print(\"Bahadir\\nKilic\")"
   ]
  },
  {
   "cell_type": "code",
   "execution_count": 40,
   "id": "05fa6bc2-f8ad-4963-8ffb-bfa098566a0f",
   "metadata": {},
   "outputs": [],
   "source": [
    "#escape characters (\\n , \\t vs.)"
   ]
  },
  {
   "cell_type": "code",
   "execution_count": null,
   "id": "0f4b323d-a40f-44ad-af90-cbe29bc87ee5",
   "metadata": {},
   "outputs": [],
   "source": []
  }
 ],
 "metadata": {
  "kernelspec": {
   "display_name": "Python [conda env:base] *",
   "language": "python",
   "name": "conda-base-py"
  },
  "language_info": {
   "codemirror_mode": {
    "name": "ipython",
    "version": 3
   },
   "file_extension": ".py",
   "mimetype": "text/x-python",
   "name": "python",
   "nbconvert_exporter": "python",
   "pygments_lexer": "ipython3",
   "version": "3.12.7"
  }
 },
 "nbformat": 4,
 "nbformat_minor": 5
}
