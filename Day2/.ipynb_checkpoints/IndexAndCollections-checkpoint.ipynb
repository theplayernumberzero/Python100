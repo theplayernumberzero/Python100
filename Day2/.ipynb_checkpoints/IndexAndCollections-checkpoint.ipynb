{
 "cells": [
  {
   "cell_type": "code",
   "execution_count": 2,
   "id": "87415d29-0b2e-4b2d-96da-8f8b44cbc460",
   "metadata": {},
   "outputs": [],
   "source": [
    "myName = \"Bahadir\""
   ]
  },
  {
   "cell_type": "code",
   "execution_count": 4,
   "id": "a2fdb6a1-c665-4f0b-9448-8fbed4e87f80",
   "metadata": {},
   "outputs": [
    {
     "data": {
      "text/plain": [
       "'h'"
      ]
     },
     "execution_count": 4,
     "metadata": {},
     "output_type": "execute_result"
    }
   ],
   "source": [
    "myName[2]"
   ]
  },
  {
   "cell_type": "code",
   "execution_count": 6,
   "id": "0aeb46fb-f333-4335-ad9c-cae1d00cab35",
   "metadata": {},
   "outputs": [
    {
     "data": {
      "text/plain": [
       "'r'"
      ]
     },
     "execution_count": 6,
     "metadata": {},
     "output_type": "execute_result"
    }
   ],
   "source": [
    "myName[-1]"
   ]
  },
  {
   "cell_type": "code",
   "execution_count": 8,
   "id": "ff9599bd-91c0-4a71-8da2-7d667c591208",
   "metadata": {},
   "outputs": [],
   "source": [
    "#SLICING"
   ]
  },
  {
   "cell_type": "code",
   "execution_count": 16,
   "id": "780a474f-893d-4434-ae3b-7c490a3479b9",
   "metadata": {},
   "outputs": [],
   "source": [
    "#[starting:stop:step] startta dahil, stopda dahil değil"
   ]
  },
  {
   "cell_type": "code",
   "execution_count": 10,
   "id": "cd8593dd-2e5b-40a3-9f71-dd9018e3c08f",
   "metadata": {},
   "outputs": [],
   "source": [
    "barcode = \"ABC12345678\""
   ]
  },
  {
   "cell_type": "code",
   "execution_count": 12,
   "id": "a61053e5-943b-4884-9487-982212b78d7a",
   "metadata": {},
   "outputs": [
    {
     "data": {
      "text/plain": [
       "'C12345678'"
      ]
     },
     "execution_count": 12,
     "metadata": {},
     "output_type": "execute_result"
    }
   ],
   "source": [
    "barcode[2::]"
   ]
  },
  {
   "cell_type": "code",
   "execution_count": 18,
   "id": "bebfe222-6d87-4d26-8d18-2ad5543934a8",
   "metadata": {},
   "outputs": [
    {
     "data": {
      "text/plain": [
       "'87654321CBA'"
      ]
     },
     "execution_count": 18,
     "metadata": {},
     "output_type": "execute_result"
    }
   ],
   "source": [
    "barcode[::-1] #ters çevirir"
   ]
  },
  {
   "cell_type": "code",
   "execution_count": 20,
   "id": "57d6db17-2303-4eb2-a06e-a148dae5b707",
   "metadata": {},
   "outputs": [
    {
     "data": {
      "text/plain": [
       "4"
      ]
     },
     "execution_count": 20,
     "metadata": {},
     "output_type": "execute_result"
    }
   ],
   "source": [
    "barcode.index(\"2\") #ilk bulduğunu verir"
   ]
  },
  {
   "cell_type": "code",
   "execution_count": 22,
   "id": "774e1a8d-3738-420e-90d6-92c9c8775d23",
   "metadata": {},
   "outputs": [],
   "source": [
    "name = \"Bahadir Kilic\""
   ]
  },
  {
   "cell_type": "code",
   "execution_count": 24,
   "id": "2574e32f-a69e-4d85-bf62-69d03b709bfe",
   "metadata": {},
   "outputs": [
    {
     "data": {
      "text/plain": [
       "['Bahadir', 'Kilic']"
      ]
     },
     "execution_count": 24,
     "metadata": {},
     "output_type": "execute_result"
    }
   ],
   "source": [
    "name.split(\" \")"
   ]
  },
  {
   "cell_type": "code",
   "execution_count": 1,
   "id": "faa24f6a-7611-484a-b989-639f91a7a77e",
   "metadata": {},
   "outputs": [],
   "source": [
    "#List"
   ]
  },
  {
   "cell_type": "code",
   "execution_count": 3,
   "id": "ae2bd3b2-a377-45e4-ac20-d5155233ad97",
   "metadata": {},
   "outputs": [],
   "source": [
    "myList = [10,20,30]"
   ]
  },
  {
   "cell_type": "code",
   "execution_count": 5,
   "id": "924fd16f-4ca5-418e-94f5-c560a5a8259d",
   "metadata": {},
   "outputs": [
    {
     "data": {
      "text/plain": [
       "[10, 20, 30]"
      ]
     },
     "execution_count": 5,
     "metadata": {},
     "output_type": "execute_result"
    }
   ],
   "source": [
    "myList"
   ]
  },
  {
   "cell_type": "code",
   "execution_count": 7,
   "id": "3f2ac463-48da-4653-80ce-b865556deb0e",
   "metadata": {},
   "outputs": [],
   "source": [
    "myList.append(40) #list e eleman ekleme"
   ]
  },
  {
   "cell_type": "code",
   "execution_count": 9,
   "id": "741923ed-684a-4bc6-9e44-7727fc2f2193",
   "metadata": {},
   "outputs": [
    {
     "data": {
      "text/plain": [
       "[10, 20, 30, 40]"
      ]
     },
     "execution_count": 9,
     "metadata": {},
     "output_type": "execute_result"
    }
   ],
   "source": [
    "myList"
   ]
  },
  {
   "cell_type": "code",
   "execution_count": null,
   "id": "8b3beea9-3895-4593-8a98-b25a68ae4a61",
   "metadata": {},
   "outputs": [],
   "source": []
  }
 ],
 "metadata": {
  "kernelspec": {
   "display_name": "Python [conda env:base] *",
   "language": "python",
   "name": "conda-base-py"
  },
  "language_info": {
   "codemirror_mode": {
    "name": "ipython",
    "version": 3
   },
   "file_extension": ".py",
   "mimetype": "text/x-python",
   "name": "python",
   "nbconvert_exporter": "python",
   "pygments_lexer": "ipython3",
   "version": "3.12.7"
  }
 },
 "nbformat": 4,
 "nbformat_minor": 5
}
