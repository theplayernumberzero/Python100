{
 "cells": [
  {
   "cell_type": "code",
   "execution_count": 2,
   "id": "87415d29-0b2e-4b2d-96da-8f8b44cbc460",
   "metadata": {},
   "outputs": [],
   "source": [
    "myName = \"Bahadir\""
   ]
  },
  {
   "cell_type": "code",
   "execution_count": 4,
   "id": "a2fdb6a1-c665-4f0b-9448-8fbed4e87f80",
   "metadata": {},
   "outputs": [
    {
     "data": {
      "text/plain": [
       "'h'"
      ]
     },
     "execution_count": 4,
     "metadata": {},
     "output_type": "execute_result"
    }
   ],
   "source": [
    "myName[2]"
   ]
  },
  {
   "cell_type": "code",
   "execution_count": 6,
   "id": "0aeb46fb-f333-4335-ad9c-cae1d00cab35",
   "metadata": {},
   "outputs": [
    {
     "data": {
      "text/plain": [
       "'r'"
      ]
     },
     "execution_count": 6,
     "metadata": {},
     "output_type": "execute_result"
    }
   ],
   "source": [
    "myName[-1]"
   ]
  },
  {
   "cell_type": "code",
   "execution_count": 8,
   "id": "ff9599bd-91c0-4a71-8da2-7d667c591208",
   "metadata": {},
   "outputs": [],
   "source": [
    "#SLICING"
   ]
  },
  {
   "cell_type": "code",
   "execution_count": 16,
   "id": "780a474f-893d-4434-ae3b-7c490a3479b9",
   "metadata": {},
   "outputs": [],
   "source": [
    "#[starting:stop:step] startta dahil, stopda dahil değil"
   ]
  },
  {
   "cell_type": "code",
   "execution_count": 10,
   "id": "cd8593dd-2e5b-40a3-9f71-dd9018e3c08f",
   "metadata": {},
   "outputs": [],
   "source": [
    "barcode = \"ABC12345678\""
   ]
  },
  {
   "cell_type": "code",
   "execution_count": 12,
   "id": "a61053e5-943b-4884-9487-982212b78d7a",
   "metadata": {},
   "outputs": [
    {
     "data": {
      "text/plain": [
       "'C12345678'"
      ]
     },
     "execution_count": 12,
     "metadata": {},
     "output_type": "execute_result"
    }
   ],
   "source": [
    "barcode[2::]"
   ]
  },
  {
   "cell_type": "code",
   "execution_count": 18,
   "id": "bebfe222-6d87-4d26-8d18-2ad5543934a8",
   "metadata": {},
   "outputs": [
    {
     "data": {
      "text/plain": [
       "'87654321CBA'"
      ]
     },
     "execution_count": 18,
     "metadata": {},
     "output_type": "execute_result"
    }
   ],
   "source": [
    "barcode[::-1] #ters çevirir"
   ]
  },
  {
   "cell_type": "code",
   "execution_count": 20,
   "id": "57d6db17-2303-4eb2-a06e-a148dae5b707",
   "metadata": {},
   "outputs": [
    {
     "data": {
      "text/plain": [
       "4"
      ]
     },
     "execution_count": 20,
     "metadata": {},
     "output_type": "execute_result"
    }
   ],
   "source": [
    "barcode.index(\"2\") #ilk bulduğunu verir"
   ]
  },
  {
   "cell_type": "code",
   "execution_count": 22,
   "id": "774e1a8d-3738-420e-90d6-92c9c8775d23",
   "metadata": {},
   "outputs": [],
   "source": [
    "name = \"Bahadir Kilic\""
   ]
  },
  {
   "cell_type": "code",
   "execution_count": 24,
   "id": "2574e32f-a69e-4d85-bf62-69d03b709bfe",
   "metadata": {},
   "outputs": [
    {
     "data": {
      "text/plain": [
       "['Bahadir', 'Kilic']"
      ]
     },
     "execution_count": 24,
     "metadata": {},
     "output_type": "execute_result"
    }
   ],
   "source": [
    "name.split(\" \")"
   ]
  },
  {
   "cell_type": "code",
   "execution_count": 1,
   "id": "faa24f6a-7611-484a-b989-639f91a7a77e",
   "metadata": {},
   "outputs": [],
   "source": [
    "#List"
   ]
  },
  {
   "cell_type": "code",
   "execution_count": 3,
   "id": "ae2bd3b2-a377-45e4-ac20-d5155233ad97",
   "metadata": {},
   "outputs": [],
   "source": [
    "myList = [10,20,30]"
   ]
  },
  {
   "cell_type": "code",
   "execution_count": 5,
   "id": "924fd16f-4ca5-418e-94f5-c560a5a8259d",
   "metadata": {},
   "outputs": [
    {
     "data": {
      "text/plain": [
       "[10, 20, 30]"
      ]
     },
     "execution_count": 5,
     "metadata": {},
     "output_type": "execute_result"
    }
   ],
   "source": [
    "myList"
   ]
  },
  {
   "cell_type": "code",
   "execution_count": 15,
   "id": "8b3beea9-3895-4593-8a98-b25a68ae4a61",
   "metadata": {},
   "outputs": [
    {
     "name": "stdin",
     "output_type": "stream",
     "text": [
      "İsminizi giriniz:  Bahadir\n"
     ]
    }
   ],
   "source": [
    "myName = input(\"İsminizi giriniz: \")"
   ]
  },
  {
   "cell_type": "code",
   "execution_count": 17,
   "id": "0466d60d-5692-432e-998d-62245dc12cbe",
   "metadata": {},
   "outputs": [
    {
     "data": {
      "text/plain": [
       "'Bahadir'"
      ]
     },
     "execution_count": 17,
     "metadata": {},
     "output_type": "execute_result"
    }
   ],
   "source": [
    "myName"
   ]
  },
  {
   "cell_type": "code",
   "execution_count": 19,
   "id": "30ef8c78-1b21-4304-88d0-1bc2e67cc104",
   "metadata": {},
   "outputs": [
    {
     "name": "stdin",
     "output_type": "stream",
     "text": [
      "Enter your age:  23\n"
     ]
    }
   ],
   "source": [
    "myAge = int(input(\"Enter your age: \"))"
   ]
  },
  {
   "cell_type": "code",
   "execution_count": 21,
   "id": "ad0dee75-a009-4b14-b1c9-d3fc5059100f",
   "metadata": {},
   "outputs": [
    {
     "data": {
      "text/plain": [
       "23"
      ]
     },
     "execution_count": 21,
     "metadata": {},
     "output_type": "execute_result"
    }
   ],
   "source": [
    "myAge"
   ]
  },
  {
   "cell_type": "code",
   "execution_count": 27,
   "id": "246fddda-bfe9-4e4a-90f3-56780f848ef9",
   "metadata": {},
   "outputs": [],
   "source": [
    "myAge = str(myAge)"
   ]
  },
  {
   "cell_type": "code",
   "execution_count": 31,
   "id": "a0773659-e820-41c5-8486-da76f95f565c",
   "metadata": {},
   "outputs": [
    {
     "data": {
      "text/plain": [
       "str"
      ]
     },
     "execution_count": 31,
     "metadata": {},
     "output_type": "execute_result"
    }
   ],
   "source": [
    "type(myAge)"
   ]
  },
  {
   "cell_type": "code",
   "execution_count": 33,
   "id": "344d32c3-179c-433a-813a-1189032427a2",
   "metadata": {},
   "outputs": [],
   "source": [
    "mixedList =[10,\"hello\",3.2]"
   ]
  },
  {
   "cell_type": "code",
   "execution_count": 35,
   "id": "afaa224b-d221-4907-9822-3dcc1683c8e6",
   "metadata": {},
   "outputs": [
    {
     "data": {
      "text/plain": [
       "list"
      ]
     },
     "execution_count": 35,
     "metadata": {},
     "output_type": "execute_result"
    }
   ],
   "source": [
    "type(mixedList)"
   ]
  },
  {
   "cell_type": "code",
   "execution_count": 37,
   "id": "8d62e42f-8598-4e85-98d5-261a442c3b42",
   "metadata": {},
   "outputs": [
    {
     "data": {
      "text/plain": [
       "[10, 'hello', 3.2, 10, 'hello', 3.2]"
      ]
     },
     "execution_count": 37,
     "metadata": {},
     "output_type": "execute_result"
    }
   ],
   "source": [
    "mixedList + mixedList"
   ]
  },
  {
   "cell_type": "code",
   "execution_count": 39,
   "id": "9e336051-07f1-4194-ae26-8a832501267f",
   "metadata": {},
   "outputs": [
    {
     "data": {
      "text/plain": [
       "[10, 'hello', 3.2, 10, 'hello', 3.2]"
      ]
     },
     "execution_count": 39,
     "metadata": {},
     "output_type": "execute_result"
    }
   ],
   "source": [
    "mixedList * 2"
   ]
  },
  {
   "cell_type": "code",
   "execution_count": 41,
   "id": "93708c1e-75f2-4ed3-a76a-d62f8c249518",
   "metadata": {},
   "outputs": [
    {
     "data": {
      "text/plain": [
       "int"
      ]
     },
     "execution_count": 41,
     "metadata": {},
     "output_type": "execute_result"
    }
   ],
   "source": [
    "type(mixedList[0])"
   ]
  },
  {
   "cell_type": "code",
   "execution_count": 43,
   "id": "9474ad58-94f5-4a3a-b625-c327eae4de7b",
   "metadata": {},
   "outputs": [],
   "source": [
    "#nested list = iç içe geçmiş listeler"
   ]
  },
  {
   "cell_type": "code",
   "execution_count": 47,
   "id": "f6cb6335-abce-47f0-bb09-2ca6304190c6",
   "metadata": {},
   "outputs": [],
   "source": [
    "nestedList =[1,2,3,[1,2,3]]"
   ]
  },
  {
   "cell_type": "code",
   "execution_count": 49,
   "id": "8e1588f0-b04e-4c50-adaa-a5962e5dffdb",
   "metadata": {},
   "outputs": [
    {
     "data": {
      "text/plain": [
       "2"
      ]
     },
     "execution_count": 49,
     "metadata": {},
     "output_type": "execute_result"
    }
   ],
   "source": [
    "nestedList[3][1]"
   ]
  },
  {
   "cell_type": "code",
   "execution_count": null,
   "id": "19787b23-7082-4506-87ed-2741ef63e649",
   "metadata": {},
   "outputs": [],
   "source": []
  }
 ],
 "metadata": {
  "kernelspec": {
   "display_name": "Python [conda env:base] *",
   "language": "python",
   "name": "conda-base-py"
  },
  "language_info": {
   "codemirror_mode": {
    "name": "ipython",
    "version": 3
   },
   "file_extension": ".py",
   "mimetype": "text/x-python",
   "name": "python",
   "nbconvert_exporter": "python",
   "pygments_lexer": "ipython3",
   "version": "3.12.7"
  }
 },
 "nbformat": 4,
 "nbformat_minor": 5
}
